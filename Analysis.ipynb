{
 "cells": [
  {
   "cell_type": "code",
   "execution_count": 20,
   "metadata": {},
   "outputs": [],
   "source": [
    "import pandas as pd\n",
    "import matplotlib.pyplot as plt\n",
    "import seaborn as sns\n",
    "%matplotlib inline\n",
    "\n",
    "import warnings\n",
    "warnings.filterwarnings('ignore')"
   ]
  },
  {
   "cell_type": "code",
   "execution_count": 21,
   "metadata": {},
   "outputs": [],
   "source": [
    "df = pd.read_csv('friends script final.csv').drop('Unnamed: 0', axis=1)\n",
    "df = df.replace({r'\\r\\n': ' '}, regex=True)"
   ]
  },
  {
   "cell_type": "code",
   "execution_count": 23,
   "metadata": {},
   "outputs": [
    {
     "data": {
      "text/plain": [
       "Rachel      8488\n",
       "Ross        8386\n",
       "Chandler    7688\n",
       "Monica      7641\n",
       "Joey        7563\n",
       "Phoebe      6815\n",
       "Name: character, dtype: int64"
      ]
     },
     "execution_count": 23,
     "metadata": {},
     "output_type": "execute_result"
    }
   ],
   "source": [
    "df['character'] = df['character'].apply(lambda x: x.capitalize().strip())\n",
    "df.character.value_counts()[:6]"
   ]
  },
  {
   "cell_type": "code",
   "execution_count": 29,
   "metadata": {},
   "outputs": [],
   "source": [
    "mispell_name = {'Rach': 'Rachel', 'Mnca': 'Monica', 'Phoe': 'Phoebe', 'Chan': 'Chandler'}\n",
    "for name in mispell_name:\n",
    "    df['character'] = df['character'].replace(name, mispell_name[name])"
   ]
  },
  {
   "cell_type": "code",
   "execution_count": 30,
   "metadata": {},
   "outputs": [],
   "source": [
    "data = df[df['character'].isin(['Rachel', 'Ross', 'Chandler', 'Monica', 'Joey', 'Phoebe'])]"
   ]
  },
  {
   "cell_type": "code",
   "execution_count": null,
   "metadata": {},
   "outputs": [],
   "source": [
    "data[data['character'] == 'Ross']['line']"
   ]
  },
  {
   "cell_type": "code",
   "execution_count": 6,
   "metadata": {
    "slideshow": {
     "slide_type": "-"
    }
   },
   "outputs": [
    {
     "data": {
      "text/html": [
       "<div>\n",
       "<style scoped>\n",
       "    .dataframe tbody tr th:only-of-type {\n",
       "        vertical-align: middle;\n",
       "    }\n",
       "\n",
       "    .dataframe tbody tr th {\n",
       "        vertical-align: top;\n",
       "    }\n",
       "\n",
       "    .dataframe thead th {\n",
       "        text-align: right;\n",
       "    }\n",
       "</style>\n",
       "<table border=\"1\" class=\"dataframe\">\n",
       "  <thead>\n",
       "    <tr style=\"text-align: right;\">\n",
       "      <th></th>\n",
       "      <th>character</th>\n",
       "      <th>line</th>\n",
       "      <th>title</th>\n",
       "    </tr>\n",
       "  </thead>\n",
       "  <tbody>\n",
       "    <tr>\n",
       "      <th>1</th>\n",
       "      <td>Monica</td>\n",
       "      <td>There's nothing to tell! He's just some guy I...</td>\n",
       "      <td>The One Where Monica Gets a New Roomate (The P...</td>\n",
       "    </tr>\n",
       "    <tr>\n",
       "      <th>2</th>\n",
       "      <td>Joey</td>\n",
       "      <td>C'mon, you're going out with the guy! There's...</td>\n",
       "      <td>The One Where Monica Gets a New Roomate (The P...</td>\n",
       "    </tr>\n",
       "    <tr>\n",
       "      <th>3</th>\n",
       "      <td>Chandler</td>\n",
       "      <td>All right Joey, be nice.  So does he have a h...</td>\n",
       "      <td>The One Where Monica Gets a New Roomate (The P...</td>\n",
       "    </tr>\n",
       "    <tr>\n",
       "      <th>4</th>\n",
       "      <td>Phoebe</td>\n",
       "      <td>Wait, does he eat chalk?</td>\n",
       "      <td>The One Where Monica Gets a New Roomate (The P...</td>\n",
       "    </tr>\n",
       "    <tr>\n",
       "      <th>5</th>\n",
       "      <td>Phoebe</td>\n",
       "      <td>Just, 'cause, I don't want her to go through ...</td>\n",
       "      <td>The One Where Monica Gets a New Roomate (The P...</td>\n",
       "    </tr>\n",
       "  </tbody>\n",
       "</table>\n",
       "</div>"
      ],
      "text/plain": [
       "  character                                               line  \\\n",
       "1    Monica   There's nothing to tell! He's just some guy I...   \n",
       "2      Joey   C'mon, you're going out with the guy! There's...   \n",
       "3  Chandler   All right Joey, be nice.  So does he have a h...   \n",
       "4    Phoebe                           Wait, does he eat chalk?   \n",
       "5    Phoebe   Just, 'cause, I don't want her to go through ...   \n",
       "\n",
       "                                               title  \n",
       "1  The One Where Monica Gets a New Roomate (The P...  \n",
       "2  The One Where Monica Gets a New Roomate (The P...  \n",
       "3  The One Where Monica Gets a New Roomate (The P...  \n",
       "4  The One Where Monica Gets a New Roomate (The P...  \n",
       "5  The One Where Monica Gets a New Roomate (The P...  "
      ]
     },
     "execution_count": 6,
     "metadata": {},
     "output_type": "execute_result"
    }
   ],
   "source": [
    "data.head()"
   ]
  },
  {
   "cell_type": "code",
   "execution_count": 32,
   "metadata": {},
   "outputs": [
    {
     "data": {
      "text/plain": [
       "The One With Ross' New Girlfriend           229\n",
       "The One With The Fake Monica                227\n",
       "The One With the Last                       226\n",
       "The One With Phoebes Uterus                225\n",
       "The One With The Butt                       220\n",
       "The One Where Theyre Up All Night          218\n",
       "The One With the Breast Milk                217\n",
       "904 - The One With The Sharks               213\n",
       "The One With the Candy Hearts               206\n",
       "The One Where Mr. Heckles Dies              199\n",
       "Friends: The Stuff Youve Never Seen        188\n",
       "913 - The One Where Monica Sings             74\n",
       "The One With Two Parts, part 1               17\n",
       "The One With Phoebe's Dad                     6\n",
       "The One Where Ross Finds Out                  5\n",
       "The One With Barry and Mindy's Wedding        3\n",
       "The One Where Ross and Rachel...You Know      3\n",
       "The One Where Joey Moves Out                  2\n",
       "The One Where Dr. Remore Dies                 1\n",
       "The One After the Superbowl                   1\n",
       "The One With Phoebe's Husband                 1\n",
       "The One Where Eddie Moves In                  1\n",
       "Friends - 915 - The One With The Mugging      1\n",
       "The One Where Old Yeller Dies                 1\n",
       "The One With the Two Parties                  1\n",
       "The One With the Baby on the Bus              1\n",
       "The One Where Eddie Won't Go                  1\n",
       "The One With the Two Bullies                  1\n",
       "The One With the Chicken Pox                  1\n",
       "The One With the Prom Video                   1\n",
       "Name: title, dtype: int64"
      ]
     },
     "execution_count": 32,
     "metadata": {},
     "output_type": "execute_result"
    }
   ],
   "source": [
    "df.title.value_counts()[-30:]"
   ]
  },
  {
   "cell_type": "code",
   "execution_count": 35,
   "metadata": {},
   "outputs": [
    {
     "data": {
      "image/png": "[encoded data removed]",
      "text/plain": [
       "<matplotlib.figure.Figure at 0x130473d240>"
      ]
     },
     "metadata": {},
     "output_type": "display_data"
    }
   ],
   "source": [
    "df.title.value_counts().plot.hist();"
   ]
  },
  {
   "cell_type": "markdown",
   "metadata": {},
   "source": [
    "Ada beberapa episode dengan jumlah percakapan yang kurang dari 200. hal ini disebabkan karena pada proses parsing, beberapa script tidak memiliki tag untuk setiap percakapan, sehingga terabaikan."
   ]
  },
  {
   "cell_type": "code",
   "execution_count": 36,
   "metadata": {},
   "outputs": [
    {
     "data": {
      "image/png": "[encoded data removed]",
      "text/plain": [
       "<matplotlib.figure.Figure at 0x13096a1198>"
      ]
     },
     "metadata": {},
     "output_type": "display_data"
    }
   ],
   "source": [
    "fig, ax = plt.subplots(figsize=(12,9))\n",
    "sns.countplot(x=data['character'], ax=ax, palette='Spectral', order=data.character.value_counts().index)\n",
    "sns.despine();"
   ]
  },
  {
   "cell_type": "code",
   "execution_count": 97,
   "metadata": {},
   "outputs": [
    {
     "data": {
      "image/png": "[encoded data removed]",
      "text/plain": [
       "<matplotlib.figure.Figure at 0x130e0f5390>"
      ]
     },
     "metadata": {},
     "output_type": "display_data"
    }
   ],
   "source": [
    "pivoted = data.pivot_table(index='title', columns = 'character', values='line', aggfunc='count').idxmax(axis=1).value_counts()\n",
    "\n",
    "fig, ax = plt.subplots(figsize=(12,9))\n",
    "sns.barplot(pivoted.index, pivoted.values, ax=ax, palette='Spectral');\n",
    "sns.despine();"
   ]
  },
  {
   "cell_type": "markdown",
   "metadata": {},
   "source": [
    "Ternyata rachel memiliki jumlah episode terbanyak (episode dipilih berdasarkan line terbanyak karakter)"
   ]
  },
  {
   "cell_type": "code",
   "execution_count": null,
   "metadata": {},
   "outputs": [],
   "source": []
  },
  {
   "cell_type": "code",
   "execution_count": null,
   "metadata": {},
   "outputs": [],
   "source": []
  },
  {
   "cell_type": "code",
   "execution_count": 37,
   "metadata": {},
   "outputs": [
    {
     "data": {
      "text/plain": [
       "'ten_title = data.title.unique()[50:60]\\ndata_10_title = data[data[\\'title\\'].isin(ten_title)]\\n\\ng = sns.FacetGrid(data_10_title, col=\"title\", col_wrap=2, size=4, aspect=2, sharex=False)\\ng.map(sns.countplot, \\'character\\');'"
      ]
     },
     "execution_count": 37,
     "metadata": {},
     "output_type": "execute_result"
    }
   ],
   "source": [
    "'''ten_title = data.title.unique()[50:60]\n",
    "data_10_title = data[data['title'].isin(ten_title)]\n",
    "\n",
    "g = sns.FacetGrid(data_10_title, col=\"title\", col_wrap=2, size=4, aspect=2, sharex=False)\n",
    "g.map(sns.countplot, 'character');'''"
   ]
  },
  {
   "cell_type": "code",
   "execution_count": null,
   "metadata": {},
   "outputs": [],
   "source": [
    "from textblob import TextBlob"
   ]
  },
  {
   "cell_type": "code",
   "execution_count": null,
   "metadata": {},
   "outputs": [],
   "source": [
    "TextBlob(\"a little bit a very great calculation\").sentiment"
   ]
  },
  {
   "cell_type": "code",
   "execution_count": null,
   "metadata": {},
   "outputs": [],
   "source": []
  }
 ],
 "metadata": {
  "kernelspec": {
   "display_name": "Python 3",
   "language": "python",
   "name": "python3"
  },
  "language_info": {
   "codemirror_mode": {
    "name": "ipython",
    "version": 3
   },
   "file_extension": ".py",
   "mimetype": "text/x-python",
   "name": "python",
   "nbconvert_exporter": "python",
   "pygments_lexer": "ipython3",
   "version": "3.6.4"
  }
 },
 "nbformat": 4,
 "nbformat_minor": 2
}
