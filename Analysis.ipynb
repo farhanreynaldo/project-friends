{
 "cells": [
  {
   "cell_type": "code",
   "execution_count": 98,
   "metadata": {},
   "outputs": [],
   "source": [
    "import pandas as pd\n",
    "import matplotlib.pyplot as plt\n",
    "import seaborn as sns\n",
    "%matplotlib inline\n",
    "\n",
    "import warnings\n",
    "warnings.filterwarnings('ignore')"
   ]
  },
  {
   "cell_type": "code",
   "execution_count": 99,
   "metadata": {},
   "outputs": [],
   "source": [
    "df = pd.read_csv('friends script final.csv').drop('Unnamed: 0', axis=1)\n",
    "df = df.replace({r'\\r\\n': ' '}, regex=True)"
   ]
  },
  {
   "cell_type": "code",
   "execution_count": 100,
   "metadata": {},
   "outputs": [
    {
     "data": {
      "text/plain": [
       "Rachel      8483\n",
       "Ross        8384\n",
       "Chandler    7684\n",
       "Monica      7638\n",
       "Joey        7560\n",
       "Phoebe      6810\n",
       "Name: character, dtype: int64"
      ]
     },
     "execution_count": 100,
     "metadata": {},
     "output_type": "execute_result"
    }
   ],
   "source": [
    "df['character'] = df['character'].apply(lambda x: x.capitalize().strip())\n",
    "df.character.value_counts()[:6]"
   ]
  },
  {
   "cell_type": "code",
   "execution_count": 101,
   "metadata": {},
   "outputs": [],
   "source": [
    "mispell_name = {'Rach': 'Rachel', 'Mnca': 'Monica', 'Phoe': 'Phoebe', 'Chan': 'Chandler'}\n",
    "for name in mispell_name:\n",
    "    df['character'] = df['character'].replace(name, mispell_name[name])"
   ]
  },
  {
   "cell_type": "code",
   "execution_count": 102,
   "metadata": {},
   "outputs": [],
   "source": [
    "data = df[df['character'].isin(['Rachel', 'Ross', 'Chandler', 'Monica', 'Joey', 'Phoebe'])]"
   ]
  },
  {
   "cell_type": "code",
   "execution_count": 103,
   "metadata": {},
   "outputs": [
    {
     "data": {
      "text/plain": [
       "18                                         (mortified) Hi.\n",
       "21        I just feel like someone reached down my thro...\n",
       "26                                                 Thanks.\n",
       "28        No, no don't! Stop cleansing my aura! No, jus...\n",
       "30        I'll be fine, alright? Really, everyone. I ho...\n",
       "32              No I don't, to hell with her, she left me!\n",
       "34        No!! Okay?! Why does everyone keep fixating o...\n",
       "36        I told mom and dad last night, they seemed to...\n",
       "38                                                  Sorry.\n",
       "41        I don't want to be single, okay? I just... I ...\n",
       "48                                                    Hi. \n",
       "55        (in a deep voice) I'll have whatever Christin...\n",
       "62                    You can see where he'd have trouble.\n",
       "78                                Paul the Wine Guy, Paul?\n",
       "80                               He finally asked you out?\n",
       "86                        (choked voice) That'd be good...\n",
       "88        (normal voice) No, go on! It's Paul the Wine ...\n",
       "94                                            A wandering?\n",
       "101       So Rachel, what're you, uh... what're you up ...\n",
       "103       Right, you're not even getting your honeymoon...\n",
       "106                                            Okay, sure.\n",
       "112       (squatting and reading the instructions) I'm ...\n",
       "121       (clutching a beer can and sniffing) This was ...\n",
       "125                                              You guys.\n",
       "141           I'm divorced!  I'm only 26 and I'm divorced!\n",
       "144                             That only took me an hour.\n",
       "146       You know what the scariest part is? What if t...\n",
       "148          I honestly don't know if I'm hungry or horny.\n",
       "168       (scornful) Grab a spoon. Do you know how long...\n",
       "172       Y'know, here's the thing. Even if I could get...\n",
       "                               ...                        \n",
       "59229                             Phoebe! Wow! No, no, no!\n",
       "59231     Phoebe, forget it, okay? Newark is - is like ...\n",
       "59233                  I am not doing this over the phone.\n",
       "59239                                                 Yay.\n",
       "59294                                        Where is she?\n",
       "59296                                Rachel! Rachel Green!\n",
       "59298                                      Rachel! Rachel!\n",
       "59300              No, no, I just have to talk to someone.\n",
       "59302                                   No, no, no, but...\n",
       "59307                                 Okay, the thing is..\n",
       "59309                                            Don't go.\n",
       "59311     Please, please stay with me. I am so in love ...\n",
       "59313     I know, I know. I shouldn't have waited 'till...\n",
       "59315         Hey, hey. I know you love me. I know you do.\n",
       "59318                                       No, you don't.\n",
       "59320                                       No, you don't.\n",
       "59322                                              Rachel?\n",
       "59324                         I really thought she'd stay.\n",
       "59341                                           Oh my God!\n",
       "59346                               Let her off the plane!\n",
       "59349                                   Try to understand!\n",
       "59351     No! No! Oh my God. Did she get off the plane?...\n",
       "59353                               You got off the plane.\n",
       "59355     I love you too, and I'm never letting you go ...\n",
       "59357     Me neither, okay? We are - we're done being s...\n",
       "59359                 This is it. Unless we're on a break.\n",
       "59360                                Don't make jokes now.\n",
       "59364                                                 Wow.\n",
       "59370                                       Uh, I haven't.\n",
       "59372     Do you realise we almost made it ten years wi...\n",
       "Name: line, Length: 8384, dtype: object"
      ]
     },
     "execution_count": 103,
     "metadata": {},
     "output_type": "execute_result"
    }
   ],
   "source": [
    "data[data['character'] == 'Ross']['line']"
   ]
  },
  {
   "cell_type": "code",
   "execution_count": 104,
   "metadata": {
    "slideshow": {
     "slide_type": "-"
    }
   },
   "outputs": [
    {
     "data": {
      "text/html": [
       "<div>\n",
       "<style scoped>\n",
       "    .dataframe tbody tr th:only-of-type {\n",
       "        vertical-align: middle;\n",
       "    }\n",
       "\n",
       "    .dataframe tbody tr th {\n",
       "        vertical-align: top;\n",
       "    }\n",
       "\n",
       "    .dataframe thead th {\n",
       "        text-align: right;\n",
       "    }\n",
       "</style>\n",
       "<table border=\"1\" class=\"dataframe\">\n",
       "  <thead>\n",
       "    <tr style=\"text-align: right;\">\n",
       "      <th></th>\n",
       "      <th>character</th>\n",
       "      <th>line</th>\n",
       "      <th>title</th>\n",
       "    </tr>\n",
       "  </thead>\n",
       "  <tbody>\n",
       "    <tr>\n",
       "      <th>1</th>\n",
       "      <td>Monica</td>\n",
       "      <td>There's nothing to tell! He's just some guy I...</td>\n",
       "      <td>The One Where Monica Gets a New Roomate (The P...</td>\n",
       "    </tr>\n",
       "    <tr>\n",
       "      <th>2</th>\n",
       "      <td>Joey</td>\n",
       "      <td>C'mon, you're going out with the guy! There's...</td>\n",
       "      <td>The One Where Monica Gets a New Roomate (The P...</td>\n",
       "    </tr>\n",
       "    <tr>\n",
       "      <th>3</th>\n",
       "      <td>Chandler</td>\n",
       "      <td>All right Joey, be nice.  So does he have a h...</td>\n",
       "      <td>The One Where Monica Gets a New Roomate (The P...</td>\n",
       "    </tr>\n",
       "    <tr>\n",
       "      <th>4</th>\n",
       "      <td>Phoebe</td>\n",
       "      <td>Wait, does he eat chalk?</td>\n",
       "      <td>The One Where Monica Gets a New Roomate (The P...</td>\n",
       "    </tr>\n",
       "    <tr>\n",
       "      <th>5</th>\n",
       "      <td>Phoebe</td>\n",
       "      <td>Just, 'cause, I don't want her to go through ...</td>\n",
       "      <td>The One Where Monica Gets a New Roomate (The P...</td>\n",
       "    </tr>\n",
       "  </tbody>\n",
       "</table>\n",
       "</div>"
      ],
      "text/plain": [
       "  character                                               line  \\\n",
       "1    Monica   There's nothing to tell! He's just some guy I...   \n",
       "2      Joey   C'mon, you're going out with the guy! There's...   \n",
       "3  Chandler   All right Joey, be nice.  So does he have a h...   \n",
       "4    Phoebe                           Wait, does he eat chalk?   \n",
       "5    Phoebe   Just, 'cause, I don't want her to go through ...   \n",
       "\n",
       "                                               title  \n",
       "1  The One Where Monica Gets a New Roomate (The P...  \n",
       "2  The One Where Monica Gets a New Roomate (The P...  \n",
       "3  The One Where Monica Gets a New Roomate (The P...  \n",
       "4  The One Where Monica Gets a New Roomate (The P...  \n",
       "5  The One Where Monica Gets a New Roomate (The P...  "
      ]
     },
     "execution_count": 104,
     "metadata": {},
     "output_type": "execute_result"
    }
   ],
   "source": [
    "data.head()"
   ]
  },
  {
   "cell_type": "code",
   "execution_count": 105,
   "metadata": {},
   "outputs": [
    {
     "data": {
      "text/plain": [
       "The One With Ross' New Girlfriend           229\n",
       "The One With The Fake Monica                227\n",
       "The One With the Last                       226\n",
       "The One With Phoebes Uterus                225\n",
       "The One With The Butt                       220\n",
       "The One Where Theyre Up All Night          218\n",
       "The One With the Breast Milk                217\n",
       "904 - The One With The Sharks               213\n",
       "The One With the Candy Hearts               206\n",
       "The One Where Mr. Heckles Dies              199\n",
       "Friends: The Stuff Youve Never Seen        188\n",
       "913 - The One Where Monica Sings             74\n",
       "The One With Two Parts, part 1               17\n",
       "The One With Phoebe's Dad                     6\n",
       "The One Where Ross Finds Out                  5\n",
       "The One With Barry and Mindy's Wedding        3\n",
       "The One Where Ross and Rachel...You Know      3\n",
       "The One Where Joey Moves Out                  2\n",
       "The One With the Chicken Pox                  1\n",
       "The One With the Prom Video                   1\n",
       "The One With Phoebe's Husband                 1\n",
       "The One Where Eddie Moves In                  1\n",
       "The One With the Two Parties                  1\n",
       "The One After the Superbowl                   1\n",
       "The One Where Dr. Remore Dies                 1\n",
       "The One With the Two Bullies                  1\n",
       "The One With the Baby on the Bus              1\n",
       "Friends - 915 - The One With The Mugging      1\n",
       "The One Where Old Yeller Dies                 1\n",
       "The One Where Eddie Won't Go                  1\n",
       "Name: title, dtype: int64"
      ]
     },
     "execution_count": 105,
     "metadata": {},
     "output_type": "execute_result"
    }
   ],
   "source": [
    "df.title.value_counts()[-30:]"
   ]
  },
  {
   "cell_type": "code",
   "execution_count": 106,
   "metadata": {},
   "outputs": [
    {
     "data": {
      "image/png": "[encoded data removed]",
      "text/plain": [
       "<matplotlib.figure.Figure at 0x80dc1a4cf8>"
      ]
     },
     "metadata": {},
     "output_type": "display_data"
    }
   ],
   "source": [
    "df.title.value_counts().plot.hist();"
   ]
  },
  {
   "cell_type": "markdown",
   "metadata": {},
   "source": [
    "Ada beberapa episode dengan jumlah percakapan yang kurang dari 200. hal ini disebabkan karena pada proses parsing, beberapa script tidak memiliki tag untuk setiap percakapan, sehingga terabaikan."
   ]
  },
  {
   "cell_type": "code",
   "execution_count": 28,
   "metadata": {},
   "outputs": [
    {
     "data": {
      "image/png": "[encoded data removed]",
      "text/plain": [
       "<matplotlib.figure.Figure at 0x80dc748978>"
      ]
     },
     "metadata": {},
     "output_type": "display_data"
    }
   ],
   "source": [
    "fig, ax = plt.subplots(figsize=(12,9))\n",
    "sns.countplot(x=data['character'], ax=ax, palette='Spectral', order=data.character.value_counts().index)\n",
    "sns.despine();"
   ]
  },
  {
   "cell_type": "code",
   "execution_count": 29,
   "metadata": {},
   "outputs": [
    {
     "data": {
      "image/png": "[encoded data removed]",
      "text/plain": [
       "<matplotlib.figure.Figure at 0x80d0f24198>"
      ]
     },
     "metadata": {},
     "output_type": "display_data"
    }
   ],
   "source": [
    "pivoted = data.pivot_table(index='title', columns = 'character', values='line', aggfunc='count').idxmax(axis=1).value_counts()\n",
    "\n",
    "fig, ax = plt.subplots(figsize=(12,9))\n",
    "sns.barplot(pivoted.index, pivoted.values, ax=ax, palette='Spectral');\n",
    "sns.despine();"
   ]
  },
  {
   "cell_type": "markdown",
   "metadata": {},
   "source": [
    "ternyata rachel sering menjadi central character di setiap episode (berdasarkan jumlah line)"
   ]
  },
  {
   "cell_type": "code",
   "execution_count": null,
   "metadata": {},
   "outputs": [],
   "source": []
  },
  {
   "cell_type": "code",
   "execution_count": 12,
   "metadata": {},
   "outputs": [
    {
     "data": {
      "text/plain": [
       "'ten_title = data.title.unique()[50:60]\\ndata_10_title = data[data[\\'title\\'].isin(ten_title)]\\n\\ng = sns.FacetGrid(data_10_title, col=\"title\", col_wrap=2, size=4, aspect=2, sharex=False)\\ng.map(sns.countplot, \\'character\\');'"
      ]
     },
     "execution_count": 12,
     "metadata": {},
     "output_type": "execute_result"
    }
   ],
   "source": [
    "'''ten_title = data.title.unique()[50:60]\n",
    "data_10_title = data[data['title'].isin(ten_title)]\n",
    "\n",
    "g = sns.FacetGrid(data_10_title, col=\"title\", col_wrap=2, size=4, aspect=2, sharex=False)\n",
    "g.map(sns.countplot, 'character');'''"
   ]
  },
  {
   "cell_type": "code",
   "execution_count": 13,
   "metadata": {},
   "outputs": [],
   "source": [
    "from textblob import TextBlob"
   ]
  },
  {
   "cell_type": "code",
   "execution_count": 30,
   "metadata": {},
   "outputs": [
    {
     "data": {
      "text/plain": [
       "1         There's nothing to tell! He's just some guy I...\n",
       "2         C'mon, you're going out with the guy! There's...\n",
       "3         All right Joey, be nice.  So does he have a h...\n",
       "4                                 Wait, does he eat chalk?\n",
       "5         Just, 'cause, I don't want her to go through ...\n",
       "6         Okay, everybody relax. This is not even a dat...\n",
       "7                                Sounds like a date to me.\n",
       "8         Alright, so I'm back in high school, I'm stan...\n",
       "10        Then I look down, and I realize there's a pho...\n",
       "11                                          Instead of...?\n",
       "12                                           That's right.\n",
       "13                                   Never had that dream.\n",
       "14                                                     No.\n",
       "15        All of a sudden, the phone starts to ring. No...\n",
       "16                And they weren't looking at you before?!\n",
       "17        Finally, I figure I'd better answer it, and i...\n",
       "18                                         (mortified) Hi.\n",
       "19               This guy says hello, I wanna kill myself.\n",
       "20                                  Are you okay, sweetie?\n",
       "21        I just feel like someone reached down my thro...\n",
       "22                                                 Cookie?\n",
       "23        (explaining to the others) Carol moved her st...\n",
       "24                                                    Ohh.\n",
       "25                   (to Ross) Let me get you some coffee.\n",
       "26                                                 Thanks.\n",
       "27        Ooh! Oh! (She starts to pluck at the air just...\n",
       "28        No, no don't! Stop cleansing my aura! No, jus...\n",
       "29                                        Fine!  Be murky!\n",
       "30        I'll be fine, alright? Really, everyone. I ho...\n",
       "31                                           No you don't.\n",
       "                               ...                        \n",
       "59352                                 I got off the plane.\n",
       "59353                               You got off the plane.\n",
       "59354                                       I do love you.\n",
       "59355     I love you too, and I'm never letting you go ...\n",
       "59356     Okay. 'Cause this is where I wanna be, okay? ...\n",
       "59357     Me neither, okay? We are - we're done being s...\n",
       "59358               Okay. You and me, alright? This is it.\n",
       "59359                 This is it. Unless we're on a break.\n",
       "59360                                Don't make jokes now.\n",
       "59362     Okay, please be careful with that. It was my ...\n",
       "59363     If that falls off the truck, it wouldn't be t...\n",
       "59364                                                 Wow.\n",
       "59365                    I know. It seems smaller somehow.\n",
       "59366                           Has it always been purple?\n",
       "59367     (to his children) Look around, you guys. This...\n",
       "59368     Hey, do you realise that at one time or anoth...\n",
       "59369                               Oh, yeah, that's true.\n",
       "59370                                       Uh, I haven't.\n",
       "59371     Wait a minute. What about that summer during ...\n",
       "59372     Do you realise we almost made it ten years wi...\n",
       "59373     Oh, honey, I forgot. I promised Treeger that ...\n",
       "59374                                            Oh, okay.\n",
       "59375                              So, I guess this is it.\n",
       "59376                                    Yeah. I guess so.\n",
       "59377     (crying) This is harder than I thought it wou...\n",
       "59378                              Oh, it's gonna be okay.\n",
       "59379     (crying) Do you guys have to go to the new ho...\n",
       "59380                                    We got some time.\n",
       "59381                     Okay, should we get some coffee?\n",
       "59382                                         Sure. Where?\n",
       "Name: line, Length: 46842, dtype: object"
      ]
     },
     "execution_count": 30,
     "metadata": {},
     "output_type": "execute_result"
    }
   ],
   "source": [
    "data.line"
   ]
  },
  {
   "cell_type": "code",
   "execution_count": 38,
   "metadata": {},
   "outputs": [],
   "source": [
    "data['sentiment'] = data.line.apply(lambda x: TextBlob(str(x)).sentiment.polarity)"
   ]
  },
  {
   "cell_type": "code",
   "execution_count": 87,
   "metadata": {},
   "outputs": [],
   "source": [
    "data['season'] = range(1, len(data)+1)"
   ]
  },
  {
   "cell_type": "code",
   "execution_count": null,
   "metadata": {},
   "outputs": [],
   "source": [
    "data.title.unique()"
   ]
  },
  {
   "cell_type": "code",
   "execution_count": 96,
   "metadata": {},
   "outputs": [
    {
     "data": {
      "text/plain": [
       "1"
      ]
     },
     "execution_count": 96,
     "metadata": {},
     "output_type": "execute_result"
    }
   ],
   "source": [
    "season_dict = dict(zip(data.title.unique(), range(1, len(data.title.unique())+1)))"
   ]
  },
  {
   "cell_type": "code",
   "execution_count": 111,
   "metadata": {},
   "outputs": [],
   "source": [
    "data['episode'] = data.title.map(season_dict)"
   ]
  },
  {
   "cell_type": "code",
   "execution_count": 113,
   "metadata": {},
   "outputs": [],
   "source": [
    "eps_to_season = {1: range(1, 25),\n",
    "                 2: range(25, 49),\n",
    "                 3: range(49, 74),\n",
    "                 4: range(74, 97),\n",
    "                 5: range(97, 120),\n",
    "                 6: range(120, 144),\n",
    "                 7: range(144, 168),\n",
    "                 8: range(168, 191),\n",
    "                 9: range(191, 215),\n",
    "                 10: range(215, 233),\n",
    "                }"
   ]
  },
  {
   "cell_type": "code",
   "execution_count": null,
   "metadata": {},
   "outputs": [],
   "source": [
    "sentiment_data = data[data['character'] == \"Ross\"].groupby('title')['sentiment'].median()\n",
    "sentiment_data"
   ]
  },
  {
   "cell_type": "code",
   "execution_count": 57,
   "metadata": {},
   "outputs": [
    {
     "data": {
      "image/png": "[encoded data removed]",
      "text/plain": [
       "<matplotlib.figure.Figure at 0x80df38ec50>"
      ]
     },
     "metadata": {},
     "output_type": "display_data"
    }
   ],
   "source": [
    "fig, ax = plt.subplots(figsize=(12,9))\n",
    "sns.distplot(data.sentiment);\n",
    "sns.despine()"
   ]
  },
  {
   "cell_type": "code",
   "execution_count": null,
   "metadata": {},
   "outputs": [],
   "source": []
  },
  {
   "cell_type": "code",
   "execution_count": null,
   "metadata": {},
   "outputs": [],
   "source": []
  }
 ],
 "metadata": {
  "kernelspec": {
   "display_name": "Python 3",
   "language": "python",
   "name": "python3"
  },
  "language_info": {
   "codemirror_mode": {
    "name": "ipython",
    "version": 3
   },
   "file_extension": ".py",
   "mimetype": "text/x-python",
   "name": "python",
   "nbconvert_exporter": "python",
   "pygments_lexer": "ipython3",
   "version": "3.6.4"
  }
 },
 "nbformat": 4,
 "nbformat_minor": 2
}
