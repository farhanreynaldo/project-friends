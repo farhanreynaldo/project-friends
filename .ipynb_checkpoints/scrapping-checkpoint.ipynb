{
 "cells": [
  {
   "cell_type": "code",
   "execution_count": 2,
   "metadata": {},
   "outputs": [],
   "source": [
    "from requests import get\n",
    "from bs4 import BeautifulSoup\n",
    "import pandas as pd\n",
    "from urllib.request import urlopen"
   ]
  },
  {
   "cell_type": "code",
   "execution_count": 9,
   "metadata": {},
   "outputs": [],
   "source": [
    "def CharLine(soup):\n",
    "    title = soup.title.get_text(strip=True)\n",
    "    for p in soup.find_all('p'):\n",
    "        if ':' in p.get_text():\n",
    "            temp = p.get_text().split(':')\n",
    "            #char = temp[0].strip()\n",
    "            #line =temp[1]\n",
    "        \n",
    "            chars.append(temp[0])\n",
    "            lines.append(temp[1])\n",
    "            titles.append(title)"
   ]
  },
  {
   "cell_type": "code",
   "execution_count": 10,
   "metadata": {},
   "outputs": [
    {
     "name": "stdout",
     "output_type": "stream",
     "text": [
      "Wall time: 2min 37s\n"
     ]
    }
   ],
   "source": [
    "%%time\n",
    "\n",
    "url = 'https://fangj.github.io/friends/'\n",
    "html_page = urlopen(url)\n",
    "soup = BeautifulSoup(html_page, 'html.parser')\n",
    "\n",
    "chars = []\n",
    "lines = []\n",
    "titles = []\n",
    "\n",
    "for link in soup.find_all('a', href=True):\n",
    "    episode_url = url + link.get('href')\n",
    "    eps = BeautifulSoup(urlopen(episode_url).read().decode('utf-8', 'ignore'), 'html.parser')\n",
    "    CharLine(eps)"
   ]
  },
  {
   "cell_type": "code",
   "execution_count": null,
   "metadata": {},
   "outputs": [],
   "source": [
    "#my_dict2 = {y:x for x,y in link_title.items()}\n",
    "#my_dict2"
   ]
  },
  {
   "cell_type": "code",
   "execution_count": 12,
   "metadata": {},
   "outputs": [],
   "source": [
    "links = []\n",
    "for link in soup.find_all('a', href=True):\n",
    "    links.append(link.get('href'))"
   ]
  },
  {
   "cell_type": "code",
   "execution_count": null,
   "metadata": {},
   "outputs": [],
   "source": [
    "chars"
   ]
  },
  {
   "cell_type": "code",
   "execution_count": 14,
   "metadata": {},
   "outputs": [],
   "source": [
    "d = {'title': titles, 'character': chars, 'line': lines}\n",
    "df = pd.DataFrame(d)"
   ]
  },
  {
   "cell_type": "code",
   "execution_count": 16,
   "metadata": {},
   "outputs": [
    {
     "data": {
      "text/plain": [
       "226"
      ]
     },
     "execution_count": 16,
     "metadata": {},
     "output_type": "execute_result"
    }
   ],
   "source": [
    "df.title.nunique()"
   ]
  },
  {
   "cell_type": "code",
   "execution_count": 17,
   "metadata": {},
   "outputs": [],
   "source": [
    "df.to_csv('friends script test.csv')"
   ]
  },
  {
   "cell_type": "markdown",
   "metadata": {},
   "source": [
    "### MISC\n",
    "***"
   ]
  },
  {
   "cell_type": "code",
   "execution_count": 3,
   "metadata": {},
   "outputs": [],
   "source": [
    "url1 = 'https://fangj.github.io/friends/season/0911.html'\n",
    "url2 = 'https://fangj.github.io/friends/season/0207.html'\n",
    "response = get(url2)"
   ]
  },
  {
   "cell_type": "code",
   "execution_count": 4,
   "metadata": {},
   "outputs": [],
   "source": [
    "#soup = BeautifulSoup(response.content, 'html.parser')\n",
    "soup = BeautifulSoup(urlopen(url2).read(), 'html.parser')"
   ]
  },
  {
   "cell_type": "code",
   "execution_count": 29,
   "metadata": {},
   "outputs": [
    {
     "name": "stdout",
     "output_type": "stream",
     "text": [
      " Monica and Rachel's apartment. Everyone is sitting at the couches,\n",
      "Chandler enters.]\n",
      "\n",
      "CHAN\n",
      " Chandler and Joey's apartment. Chandler is answering the door in his robe.]\n",
      "\n",
      "CHAN\n",
      " Wow, well uh, uh, actually, Julie's downstairs getting a cab, I just need the cat\n",
      "toy, did Monica say. . . What? Why, why are you looking at me like that?\n",
      "\n",
      "RACH\n",
      " Oh my God. Oh my God Ross, no, hang up the phone, give me the phone Ross, give me\n",
      "the phone, give me the phone, give me the. . . [jumps the couch and lands on Ross's back,\n",
      "finally getting the phone from him. Ross has a confused expression on his face.]\n",
      "\n",
      "ROSS\n",
      " And ya know what, now I've got closure.\n",
      "\n",
      "[Rachel slams the door and locks it. She sits down, visibly upset. She puts her head in\n",
      "her hands and begins to cry. Ross comes back and is standing outside the window. When\n",
      "Rachel regroups and gets back up to finish closing, she sees him. She smiles. She goes to\n",
      "open the door and can't get the lock undone.]\n",
      "\n",
      "ROSS\n"
     ]
    }
   ],
   "source": [
    "for line in soup.find_all('p'):\n",
    "    if ':' in line.get_text():\n",
    "        temp = line.get_text().split(':')\n",
    "        print(temp[1])"
   ]
  },
  {
   "cell_type": "code",
   "execution_count": 1,
   "metadata": {},
   "outputs": [],
   "source": [
    "#almost final\n",
    "def CharLine(soup):\n",
    "    title = soup.title.get_text(strip=True)\n",
    "    for p in soup.find_all('p'):\n",
    "        if ':' in p.get_text():\n",
    "            temp = p.get_text().split(':')\n",
    "            #char = temp[0].strip()\n",
    "            #line =temp[1]\n",
    "        \n",
    "            chars.append(temp[0])\n",
    "            lines.append(temp[1])\n",
    "            titles.append(title)"
   ]
  },
  {
   "cell_type": "code",
   "execution_count": null,
   "metadata": {},
   "outputs": [],
   "source": [
    "lines = []\n",
    "for p in soup.find_all('p'):\n",
    "    #if p.find('b'):\n",
    "    if ':' in p.get_text():\n",
    "        temp = p.get_text().split(':')\n",
    "        lines.append(temp[1])"
   ]
  },
  {
   "cell_type": "code",
   "execution_count": null,
   "metadata": {},
   "outputs": [],
   "source": [
    "def CharLine(soup):\n",
    "    for b in soup.find_all(\"b\"):\n",
    "        char = b.get_text(strip=True).replace(':','')\n",
    "        try:\n",
    "            line = b.next_sibling.strip()\n",
    "        except:\n",
    "            continue\n",
    "        print(line)\n",
    "        #chars.append(char)\n",
    "        #lines.append(line)\n",
    "        #titles.append(title)\n",
    "\n",
    "CharLine(soup)"
   ]
  },
  {
   "cell_type": "code",
   "execution_count": 5,
   "metadata": {},
   "outputs": [],
   "source": [
    "#Old Script\n",
    "def char_line():\n",
    "    char = []\n",
    "    line = []\n",
    "    for item in lines:\n",
    "        if ':' in item.text:\n",
    "            temp = item.text.split(':')\n",
    "            char.append(temp[0])\n",
    "            clean_line = temp[1].replace('\\n', ' ').replace('\\xa0', '').strip()\n",
    "            line.append(clean_line)\n",
    "            \n",
    "#second old script\n",
    "def CharLine(soup):\n",
    "    if not soup.find(\"b\"):\n",
    "        for strong in soup.find_all(\"strong\"):\n",
    "            title = soup.title.get_text(strip=True)\n",
    "            char = strong.get_text(strip=True).replace(':','')\n",
    "            try:\n",
    "                line = strong.next_sibling.replace('\\n', ' ').replace('\\xa0', '').replace(':','').strip()\n",
    "            except:\n",
    "                continue\n",
    "                \n",
    "            chars.append(char)\n",
    "            lines.append(line)\n",
    "            titles.append(title)\n",
    "    else:\n",
    "        for b in soup.find_all(\"b\"):\n",
    "            title = soup.title.get_text(strip=True)\n",
    "            char = b.get_text(strip=True).replace(':','')\n",
    "            try:\n",
    "                line = b.next_sibling.replace('\\n', ' ').replace('\\xa0', '').strip()\n",
    "            except:\n",
    "                continue\n",
    "                    \n",
    "            chars.append(char)\n",
    "            lines.append(line)\n",
    "            titles.append(title)\n",
    "            \n",
    "#third old script\n",
    "def CharLine(soup):\n",
    "    for item in soup.find_all(['b', 'strong']):\n",
    "        title = soup.title.get_text(strip=True)\n",
    "        char = item.get_text(strip=True).replace(':','')\n",
    "        try:\n",
    "            line = item.next_sibling.replace(':','').replace('\\n', ' ').strip()\n",
    "        except:\n",
    "            continue\n",
    "        linked = link.get('href')\n",
    "        \n",
    "        chars.append(char)\n",
    "        lines.append(line)\n",
    "        titles.append(title)\n",
    "        link_title[title] = linked\n",
    "        \n",
    "#fourth old script\n",
    "def CharLine(soup):\n",
    "    for item in soup.find_all(['b', 'strong']):\n",
    "        title = soup.title.get_text(strip=True)\n",
    "        char = item.get_text(strip=True).replace(':','')\n",
    "        try:\n",
    "            line = item.next_sibling.replace(':','').replace('\\n', ' ').strip()\n",
    "        except:\n",
    "            continue\n",
    "        linked = link.get('href')\n",
    "        \n",
    "        chars.append(char)\n",
    "        lines.append(line)\n",
    "        titles.append(title)\n",
    "        link_title[title] = linked"
   ]
  },
  {
   "cell_type": "code",
   "execution_count": null,
   "metadata": {},
   "outputs": [],
   "source": []
  },
  {
   "cell_type": "code",
   "execution_count": null,
   "metadata": {},
   "outputs": [],
   "source": []
  },
  {
   "cell_type": "code",
   "execution_count": null,
   "metadata": {},
   "outputs": [],
   "source": []
  },
  {
   "cell_type": "code",
   "execution_count": null,
   "metadata": {},
   "outputs": [],
   "source": [
    "'''for string in soup.stripped_strings:\n",
    "    print(repr(string))'''"
   ]
  },
  {
   "cell_type": "code",
   "execution_count": null,
   "metadata": {},
   "outputs": [],
   "source": []
  }
 ],
 "metadata": {
  "kernelspec": {
   "display_name": "Python 3",
   "language": "python",
   "name": "python3"
  },
  "language_info": {
   "codemirror_mode": {
    "name": "ipython",
    "version": 3
   },
   "file_extension": ".py",
   "mimetype": "text/x-python",
   "name": "python",
   "nbconvert_exporter": "python",
   "pygments_lexer": "ipython3",
   "version": "3.6.4"
  }
 },
 "nbformat": 4,
 "nbformat_minor": 2
}
